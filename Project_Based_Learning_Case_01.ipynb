{
 "cells": [
  {
   "cell_type": "code",
   "execution_count": 19,
   "id": "309dabb9-e570-4d6f-b227-5f2fdd40736b",
   "metadata": {
    "executionInfo": {
     "elapsed": 584,
     "status": "ok",
     "timestamp": 1671520030242,
     "user": {
      "displayName": "Stephanie Fani",
      "userId": "03013489333346707504"
     },
     "user_tz": -420
    },
    "id": "309dabb9-e570-4d6f-b227-5f2fdd40736b"
   },
   "outputs": [],
   "source": [
    "#Import Libraries\n",
    "import pandas as pd\n",
    "import numpy as np\n",
    "import scipy.stats as stats"
   ]
  },
  {
   "cell_type": "code",
   "execution_count": 35,
   "id": "56587e98-c378-44b9-93f0-d796b76124ff",
   "metadata": {
    "colab": {
     "base_uri": "https://localhost:8080/",
     "height": 833
    },
    "executionInfo": {
     "elapsed": 4,
     "status": "ok",
     "timestamp": 1671520030243,
     "user": {
      "displayName": "Stephanie Fani",
      "userId": "03013489333346707504"
     },
     "user_tz": -420
    },
    "id": "56587e98-c378-44b9-93f0-d796b76124ff",
    "outputId": "34e681a7-bda2-4ea7-c895-b08208412753"
   },
   "outputs": [],
   "source": [
    "#Create DataFrame\n",
    "data = [100, 150, 50, 100, 130,\n",
    "        120, 100, 85, 70, 150,\n",
    "        150, 120, 50, 100, 100,\n",
    "        140, 90, 150, 50, 90,\n",
    "        120, 100, 110, 75, 65]\n",
    "\n",
    "# Buat DataFrame\n",
    "df = pd.DataFrame(data, columns=['TransactionAmount'])"
   ]
  },
  {
   "cell_type": "code",
   "execution_count": 34,
   "id": "KOFYWfvUtfMx",
   "metadata": {
    "colab": {
     "base_uri": "https://localhost:8080/"
    },
    "executionInfo": {
     "elapsed": 6,
     "status": "ok",
     "timestamp": 1671520030708,
     "user": {
      "displayName": "Stephanie Fani",
      "userId": "03013489333346707504"
     },
     "user_tz": -420
    },
    "id": "KOFYWfvUtfMx",
    "outputId": "4d59d08d-7da4-4d66-c8e2-35761e1ac331"
   },
   "outputs": [
    {
     "name": "stdout",
     "output_type": "stream",
     "text": [
      "Mean: 102.6\n",
      "Median: 100.0\n",
      "Mode: [100]\n",
      "Modus: 100 muncul sebanyak 6 kali\n"
     ]
    }
   ],
   "source": [
    "#Central Tendency\n",
    "# Hitung central tendency\n",
    "mean = df['TransactionAmount'].mean()\n",
    "median = df['TransactionAmount'].median()\n",
    "mode = df['TransactionAmount'].mode()\n",
    "\n",
    "#mengurutkan untuk pembuktian medianS\n",
    "#sorted_df = df.sort_values(by='TransactionAmount', ascending=False)\n",
    "#print(sorted_df)\n",
    "\n",
    "# Tampilkan hasil\n",
    "print(\"Mean:\", mean)\n",
    "print(\"Median:\", median)\n",
    "print(\"Mode:\", mode.values)\n",
    "\n",
    "# Hitung modus\n",
    "#mode_value = df['TransactionAmount'].mode()[0]\n",
    "\n",
    "# Hitung jumlah kemunculan modus\n",
    "#mode_count = df['TransactionAmount'].value_counts()[mode_value]\n",
    "\n",
    "# Tampilkan hasil\n",
    "#print(f\"Modus: {mode_value} muncul sebanyak {mode_count} kali\")"
   ]
  },
  {
   "cell_type": "code",
   "execution_count": 36,
   "id": "ceRxEGdTt966",
   "metadata": {
    "executionInfo": {
     "elapsed": 1,
     "status": "ok",
     "timestamp": 1671520033894,
     "user": {
      "displayName": "Stephanie Fani",
      "userId": "03013489333346707504"
     },
     "user_tz": -420
    },
    "id": "ceRxEGdTt966"
   },
   "outputs": [
    {
     "ename": "SyntaxError",
     "evalue": "invalid syntax (231033800.py, line 2)",
     "output_type": "error",
     "traceback": [
      "\u001b[1;36m  Cell \u001b[1;32mIn[36], line 2\u001b[1;36m\u001b[0m\n\u001b[1;33m    1. Mean (Rata-rata)\u001b[0m\n\u001b[1;37m       ^\u001b[0m\n\u001b[1;31mSyntaxError\u001b[0m\u001b[1;31m:\u001b[0m invalid syntax\n"
     ]
    }
   ],
   "source": [
    "#Tulis analisismu dari Central Tendency di sini\n",
    "1. Mean (Rata-rata)\n",
    "rata-rata dari seluruh transaksi adalah 102.6\n",
    "\n",
    "2. Median (Nilai Tengah)\n",
    "Median adalah nilai yang berada di tengah setelah data diurutkan adalah 100.0\n",
    "\n",
    "3. Mode (Modus)\n",
    "Mode adalah nilai yang paling sering muncul. pada data frame diatas jumlah kemunculan $100 mencapai 6 kali\n",
    "\n",
    "kesimpulan terjadi peningkatan sebesar $2.6 pada rata-rata penjualan dari sample data seles yg diambil setelah training\n"
   ]
  },
  {
   "cell_type": "code",
   "execution_count": 39,
   "id": "UcbHy344uQ-G",
   "metadata": {
    "colab": {
     "base_uri": "https://localhost:8080/"
    },
    "executionInfo": {
     "elapsed": 525,
     "status": "ok",
     "timestamp": 1671520041794,
     "user": {
      "displayName": "Stephanie Fani",
      "userId": "03013489333346707504"
     },
     "user_tz": -420
    },
    "id": "UcbHy344uQ-G",
    "outputId": "0efd8348-3879-4a79-8085-fd842b5d1a60"
   },
   "outputs": [
    {
     "name": "stdout",
     "output_type": "stream",
     "text": [
      "972.2399999999997\n",
      "31.180763300471007\n",
      "100\n",
      "85.0\n",
      "100.0\n",
      "120.0\n"
     ]
    }
   ],
   "source": [
    "#Variability\n",
    "#import ...\n",
    "#print var\n",
    "#print std\n",
    "#print max & min\n",
    "#print quantile 0.25\n",
    "#print quantile 0.5\n",
    "#print quantile 0.75\n",
    "\n",
    "\n",
    "import numpy as np\n",
    "print(np.var(df['TransactionAmount']))\n",
    "print(np.std(df['TransactionAmount']))\n",
    "print(np.max(df['TransactionAmount']) - np.min(df))\n",
    "print(np.quantile(df['TransactionAmount'], 0.25))\n",
    "print(np.quantile(df['TransactionAmount'], 0.5))\n",
    "print(np.quantile(df['TransactionAmount'], 0.75))"
   ]
  },
  {
   "cell_type": "code",
   "execution_count": 37,
   "id": "v_dl9Fneuabm",
   "metadata": {
    "executionInfo": {
     "elapsed": 854,
     "status": "ok",
     "timestamp": 1671520098187,
     "user": {
      "displayName": "Stephanie Fani",
      "userId": "03013489333346707504"
     },
     "user_tz": -420
    },
    "id": "v_dl9Fneuabm"
   },
   "outputs": [
    {
     "ename": "SyntaxError",
     "evalue": "invalid syntax (3923368964.py, line 2)",
     "output_type": "error",
     "traceback": [
      "\u001b[1;36m  Cell \u001b[1;32mIn[37], line 2\u001b[1;36m\u001b[0m\n\u001b[1;33m    dengan data diatas bisa di ambil kesimpulan sebagai berikut:\u001b[0m\n\u001b[1;37m           ^\u001b[0m\n\u001b[1;31mSyntaxError\u001b[0m\u001b[1;31m:\u001b[0m invalid syntax\n"
     ]
    }
   ],
   "source": [
    "#Tulis analisismu dari Variability di sini\n",
    "dengan data diatas bisa di ambil kesimpulan sebagai berikut:\n",
    "1. untuk varians populasinya di angka 972.2399999999997\n",
    "2. untuk standar deviasinya di angka 31.180763300471007\n",
    "3. untuk nilai rage/selisih penjualan antara yg terbesar dan yang ter kecil sebesar $100\n",
    "4. untuk nilai di Q1 = 85.0\n",
    "5. untuk nilai di Q2 = 100.0\n",
    "6. untuk nilai di Q3 = 120.0"
   ]
  },
  {
   "cell_type": "code",
   "execution_count": 8,
   "id": "3786f132-4bd1-4c72-a5d9-1044aa088818",
   "metadata": {
    "executionInfo": {
     "elapsed": 1,
     "status": "ok",
     "timestamp": 1671520106679,
     "user": {
      "displayName": "Stephanie Fani",
      "userId": "03013489333346707504"
     },
     "user_tz": -420
    },
    "id": "3786f132-4bd1-4c72-a5d9-1044aa088818"
   },
   "outputs": [],
   "source": [
    "#Define H0 and H1\n",
    "#H0: nilai rata-rata penjualan seles sebelum dilakukanya training adalah = $100\n",
    "#H1: nilai rata-rata penjualan seles sesudah dilakukanya training adalah >$100"
   ]
  },
  {
   "cell_type": "code",
   "execution_count": 5,
   "id": "b8103158-ecda-478d-9926-7ec0dcfc5c12",
   "metadata": {
    "executionInfo": {
     "elapsed": 624,
     "status": "ok",
     "timestamp": 1671520113997,
     "user": {
      "displayName": "Stephanie Fani",
      "userId": "03013489333346707504"
     },
     "user_tz": -420
    },
    "id": "b8103158-ecda-478d-9926-7ec0dcfc5c12"
   },
   "outputs": [],
   "source": [
    "#Define alpha = 0.05"
   ]
  },
  {
   "cell_type": "code",
   "execution_count": 57,
   "id": "686e0fc4-84d5-4712-ae90-b47eb3ea44ac",
   "metadata": {
    "colab": {
     "base_uri": "https://localhost:8080/"
    },
    "executionInfo": {
     "elapsed": 2,
     "status": "ok",
     "timestamp": 1671520114452,
     "user": {
      "displayName": "Stephanie Fani",
      "userId": "03013489333346707504"
     },
     "user_tz": -420
    },
    "id": "686e0fc4-84d5-4712-ae90-b47eb3ea44ac",
    "outputId": "42c97137-4bef-4516-8b06-654df3bbaa93"
   },
   "outputs": [
    {
     "data": {
      "text/plain": [
       "TtestResult(statistic=0.4085001556802841, pvalue=0.6865284813438117, df=24)"
      ]
     },
     "execution_count": 57,
     "metadata": {},
     "output_type": "execute_result"
    }
   ],
   "source": [
    "import scipy.stats as stats\n",
    "#Calculate t statistics and P-value\n",
    "#Perform one sample t-test\n",
    "stats.ttest_1samp(a=df['TransactionAmount'], popmean=100)"
   ]
  },
  {
   "cell_type": "code",
   "execution_count": null,
   "id": "592f6cf7",
   "metadata": {},
   "outputs": [],
   "source": [
    "#statistic= 0.4085001556802841, pvalue= 0.6865284813438117"
   ]
  },
  {
   "cell_type": "code",
   "execution_count": 11,
   "id": "35c7de5f-3992-4872-98ea-9e9269b1557b",
   "metadata": {
    "executionInfo": {
     "elapsed": 435,
     "status": "ok",
     "timestamp": 1671520140175,
     "user": {
      "displayName": "Stephanie Fani",
      "userId": "03013489333346707504"
     },
     "user_tz": -420
    },
    "id": "35c7de5f-3992-4872-98ea-9e9269b1557b"
   },
   "outputs": [],
   "source": [
    "#Conclude with alpha and p-value\n",
    "Karena nilai P lebih besar dari alpha (5%), maka kita gagal menolak H0.\n",
    "#Conclusion: Training ini tidak efektif, rata-rata jumlah transaksi dari 25 sampel hanya"
   ]
  },
  {
   "cell_type": "code",
   "execution_count": 12,
   "id": "9580db55-a594-4c1b-a5e6-3787906505c2",
   "metadata": {
    "executionInfo": {
     "elapsed": 1,
     "status": "ok",
     "timestamp": 1671520143687,
     "user": {
      "displayName": "Stephanie Fani",
      "userId": "03013489333346707504"
     },
     "user_tz": -420
    },
    "id": "9580db55-a594-4c1b-a5e6-3787906505c2"
   },
   "outputs": [],
   "source": [
    "#Conclude with t statistics and critical region\n",
    "#Find the critical region"
   ]
  },
  {
   "cell_type": "code",
   "execution_count": 69,
   "id": "1429f038",
   "metadata": {},
   "outputs": [
    {
     "data": {
      "text/plain": [
       "1.7108820799094275"
      ]
     },
     "execution_count": 69,
     "metadata": {},
     "output_type": "execute_result"
    }
   ],
   "source": [
    "#H1: larger (right side)\n",
    "\n",
    "stats.t.ppf(1-0.05, 24)"
   ]
  },
  {
   "cell_type": "code",
   "execution_count": 75,
   "id": "d6595428-5211-4cf7-bb61-ca8e201e6ef6",
   "metadata": {
    "executionInfo": {
     "elapsed": 1,
     "status": "ok",
     "timestamp": 1671520153697,
     "user": {
      "displayName": "Stephanie Fani",
      "userId": "03013489333346707504"
     },
     "user_tz": -420
    },
    "id": "d6595428-5211-4cf7-bb61-ca8e201e6ef6"
   },
   "outputs": [
    {
     "ename": "SyntaxError",
     "evalue": "invalid syntax (1407205280.py, line 2)",
     "output_type": "error",
     "traceback": [
      "\u001b[1;36m  Cell \u001b[1;32mIn[75], line 2\u001b[1;36m\u001b[0m\n\u001b[1;33m    Critical region: t > 1.71\u001b[0m\n\u001b[1;37m             ^\u001b[0m\n\u001b[1;31mSyntaxError\u001b[0m\u001b[1;31m:\u001b[0m invalid syntax\n"
     ]
    }
   ],
   "source": [
    "#Critical region result\n",
    "Critical region: t > 1.71\n",
    "As the t-statistic is not in the critical region, then we fail to reject H0\n",
    "#Conclusion:\n",
    "Kampanye ini tidak efektif, rata-rata jumlah transaksi 30 hari masih 100"
   ]
  },
  {
   "cell_type": "code",
   "execution_count": null,
   "id": "75da11b9-f50c-4bb9-ab7a-e737a786de20",
   "metadata": {},
   "outputs": [],
   "source": []
  }
 ],
 "metadata": {
  "colab": {
   "provenance": []
  },
  "kernelspec": {
   "display_name": "Python [conda env:base] *",
   "language": "python",
   "name": "conda-base-py"
  },
  "language_info": {
   "codemirror_mode": {
    "name": "ipython",
    "version": 3
   },
   "file_extension": ".py",
   "mimetype": "text/x-python",
   "name": "python",
   "nbconvert_exporter": "python",
   "pygments_lexer": "ipython3",
   "version": "3.12.7"
  },
  "vscode": {
   "interpreter": {
    "hash": "5e70fd34aa919644e731ce0c71c5ec6c66d3b48eb7909f9a04da7ee7076ef028"
   }
  }
 },
 "nbformat": 4,
 "nbformat_minor": 5
}
